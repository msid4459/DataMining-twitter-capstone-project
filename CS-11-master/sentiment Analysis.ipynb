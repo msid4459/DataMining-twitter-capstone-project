{
 "cells": [
  {
   "cell_type": "code",
   "execution_count": 29,
   "metadata": {},
   "outputs": [],
   "source": [
    "import pandas\n"
   ]
  },
  {
   "cell_type": "code",
   "execution_count": 30,
   "metadata": {},
   "outputs": [],
   "source": [
    "df1=pandas.read_csv(r'C:\\Users\\msid4\\OneDrive\\Desktop\\univ\\capstone\\final_dataset\\insulin\\insulin1+results.csv')"
   ]
  },
  {
   "cell_type": "code",
   "execution_count": 31,
   "metadata": {},
   "outputs": [
    {
     "data": {
      "text/html": [
       "<div>\n",
       "<style scoped>\n",
       "    .dataframe tbody tr th:only-of-type {\n",
       "        vertical-align: middle;\n",
       "    }\n",
       "\n",
       "    .dataframe tbody tr th {\n",
       "        vertical-align: top;\n",
       "    }\n",
       "\n",
       "    .dataframe thead th {\n",
       "        text-align: right;\n",
       "    }\n",
       "</style>\n",
       "<table border=\"1\" class=\"dataframe\">\n",
       "  <thead>\n",
       "    <tr style=\"text-align: right;\">\n",
       "      <th></th>\n",
       "      <th>Absolute_Negative_Score</th>\n",
       "      <th>Negative_Score</th>\n",
       "      <th>Clean_Text</th>\n",
       "      <th>Positive_Score</th>\n",
       "      <th>Word_Max</th>\n",
       "      <th>Number_of_Records</th>\n",
       "    </tr>\n",
       "  </thead>\n",
       "  <tbody>\n",
       "    <tr>\n",
       "      <th>0</th>\n",
       "      <td>2.0</td>\n",
       "      <td>-2.0</td>\n",
       "      <td>1 During the lapse went 4 weeks wo this med ca...</td>\n",
       "      <td>1.0</td>\n",
       "      <td>2=Word Max</td>\n",
       "      <td>1.0</td>\n",
       "    </tr>\n",
       "    <tr>\n",
       "      <th>1</th>\n",
       "      <td>1.0</td>\n",
       "      <td>-1.0</td>\n",
       "      <td>2 He starts sleeping at the shelter Finds anot...</td>\n",
       "      <td>2.0</td>\n",
       "      <td>1=word max</td>\n",
       "      <td>1.0</td>\n",
       "    </tr>\n",
       "    <tr>\n",
       "      <th>2</th>\n",
       "      <td>3.0</td>\n",
       "      <td>-3.0</td>\n",
       "      <td>3 Insulin Dose Calculation made dramatically s...</td>\n",
       "      <td>1.0</td>\n",
       "      <td>2=word max</td>\n",
       "      <td>1.0</td>\n",
       "    </tr>\n",
       "    <tr>\n",
       "      <th>3</th>\n",
       "      <td>1.0</td>\n",
       "      <td>-1.0</td>\n",
       "      <td>4 No you are right about longacting insulin I ...</td>\n",
       "      <td>1.0</td>\n",
       "      <td>1=word max</td>\n",
       "      <td>1.0</td>\n",
       "    </tr>\n",
       "    <tr>\n",
       "      <th>4</th>\n",
       "      <td>2.0</td>\n",
       "      <td>-2.0</td>\n",
       "      <td>5 HerpAlert  skyrocketing insulin prices  peak...</td>\n",
       "      <td>2.0</td>\n",
       "      <td>1=word max</td>\n",
       "      <td>1.0</td>\n",
       "    </tr>\n",
       "  </tbody>\n",
       "</table>\n",
       "</div>"
      ],
      "text/plain": [
       "   Absolute_Negative_Score   Negative_Score  \\\n",
       "0                       2.0            -2.0   \n",
       "1                       1.0            -1.0   \n",
       "2                       3.0            -3.0   \n",
       "3                       1.0            -1.0   \n",
       "4                       2.0            -2.0   \n",
       "\n",
       "                                          Clean_Text  Positive_Score  \\\n",
       "0  1 During the lapse went 4 weeks wo this med ca...             1.0   \n",
       "1  2 He starts sleeping at the shelter Finds anot...             2.0   \n",
       "2  3 Insulin Dose Calculation made dramatically s...             1.0   \n",
       "3  4 No you are right about longacting insulin I ...             1.0   \n",
       "4  5 HerpAlert  skyrocketing insulin prices  peak...             2.0   \n",
       "\n",
       "     Word_Max  Number_of_Records  \n",
       "0  2=Word Max                1.0  \n",
       "1  1=word max                1.0  \n",
       "2  2=word max                1.0  \n",
       "3  1=word max                1.0  \n",
       "4  1=word max                1.0  "
      ]
     },
     "execution_count": 31,
     "metadata": {},
     "output_type": "execute_result"
    }
   ],
   "source": [
    "df1.head()"
   ]
  },
  {
   "cell_type": "code",
   "execution_count": 32,
   "metadata": {},
   "outputs": [],
   "source": [
    "import numpy as np"
   ]
  },
  {
   "cell_type": "code",
   "execution_count": 37,
   "metadata": {},
   "outputs": [],
   "source": [
    "df1['verdict'] = np.where(df1['Positive_Score']>df1['Absolute_Negative_Score '],'yes', 'no')\n",
    "    \n",
    "    "
   ]
  },
  {
   "cell_type": "code",
   "execution_count": 38,
   "metadata": {},
   "outputs": [
    {
     "data": {
      "text/plain": [
       "['Absolute_Negative_Score ',\n",
       " 'Negative_Score',\n",
       " 'Clean_Text',\n",
       " 'Positive_Score',\n",
       " 'Word_Max',\n",
       " 'Number_of_Records',\n",
       " 'verdict']"
      ]
     },
     "execution_count": 38,
     "metadata": {},
     "output_type": "execute_result"
    }
   ],
   "source": [
    "list(df1)"
   ]
  },
  {
   "cell_type": "code",
   "execution_count": 39,
   "metadata": {},
   "outputs": [
    {
     "data": {
      "text/html": [
       "<div>\n",
       "<style scoped>\n",
       "    .dataframe tbody tr th:only-of-type {\n",
       "        vertical-align: middle;\n",
       "    }\n",
       "\n",
       "    .dataframe tbody tr th {\n",
       "        vertical-align: top;\n",
       "    }\n",
       "\n",
       "    .dataframe thead th {\n",
       "        text-align: right;\n",
       "    }\n",
       "</style>\n",
       "<table border=\"1\" class=\"dataframe\">\n",
       "  <thead>\n",
       "    <tr style=\"text-align: right;\">\n",
       "      <th></th>\n",
       "      <th>Absolute_Negative_Score</th>\n",
       "      <th>Negative_Score</th>\n",
       "      <th>Clean_Text</th>\n",
       "      <th>Positive_Score</th>\n",
       "      <th>Word_Max</th>\n",
       "      <th>Number_of_Records</th>\n",
       "      <th>verdict</th>\n",
       "    </tr>\n",
       "  </thead>\n",
       "  <tbody>\n",
       "    <tr>\n",
       "      <th>0</th>\n",
       "      <td>2.0</td>\n",
       "      <td>-2.0</td>\n",
       "      <td>1 During the lapse went 4 weeks wo this med ca...</td>\n",
       "      <td>1.0</td>\n",
       "      <td>2=Word Max</td>\n",
       "      <td>1.0</td>\n",
       "      <td>no</td>\n",
       "    </tr>\n",
       "    <tr>\n",
       "      <th>1</th>\n",
       "      <td>1.0</td>\n",
       "      <td>-1.0</td>\n",
       "      <td>2 He starts sleeping at the shelter Finds anot...</td>\n",
       "      <td>2.0</td>\n",
       "      <td>1=word max</td>\n",
       "      <td>1.0</td>\n",
       "      <td>yes</td>\n",
       "    </tr>\n",
       "    <tr>\n",
       "      <th>2</th>\n",
       "      <td>3.0</td>\n",
       "      <td>-3.0</td>\n",
       "      <td>3 Insulin Dose Calculation made dramatically s...</td>\n",
       "      <td>1.0</td>\n",
       "      <td>2=word max</td>\n",
       "      <td>1.0</td>\n",
       "      <td>no</td>\n",
       "    </tr>\n",
       "    <tr>\n",
       "      <th>3</th>\n",
       "      <td>1.0</td>\n",
       "      <td>-1.0</td>\n",
       "      <td>4 No you are right about longacting insulin I ...</td>\n",
       "      <td>1.0</td>\n",
       "      <td>1=word max</td>\n",
       "      <td>1.0</td>\n",
       "      <td>no</td>\n",
       "    </tr>\n",
       "    <tr>\n",
       "      <th>4</th>\n",
       "      <td>2.0</td>\n",
       "      <td>-2.0</td>\n",
       "      <td>5 HerpAlert  skyrocketing insulin prices  peak...</td>\n",
       "      <td>2.0</td>\n",
       "      <td>1=word max</td>\n",
       "      <td>1.0</td>\n",
       "      <td>no</td>\n",
       "    </tr>\n",
       "  </tbody>\n",
       "</table>\n",
       "</div>"
      ],
      "text/plain": [
       "   Absolute_Negative_Score   Negative_Score  \\\n",
       "0                       2.0            -2.0   \n",
       "1                       1.0            -1.0   \n",
       "2                       3.0            -3.0   \n",
       "3                       1.0            -1.0   \n",
       "4                       2.0            -2.0   \n",
       "\n",
       "                                          Clean_Text  Positive_Score  \\\n",
       "0  1 During the lapse went 4 weeks wo this med ca...             1.0   \n",
       "1  2 He starts sleeping at the shelter Finds anot...             2.0   \n",
       "2  3 Insulin Dose Calculation made dramatically s...             1.0   \n",
       "3  4 No you are right about longacting insulin I ...             1.0   \n",
       "4  5 HerpAlert  skyrocketing insulin prices  peak...             2.0   \n",
       "\n",
       "     Word_Max  Number_of_Records verdict  \n",
       "0  2=Word Max                1.0      no  \n",
       "1  1=word max                1.0     yes  \n",
       "2  2=word max                1.0      no  \n",
       "3  1=word max                1.0      no  \n",
       "4  1=word max                1.0      no  "
      ]
     },
     "execution_count": 39,
     "metadata": {},
     "output_type": "execute_result"
    }
   ],
   "source": [
    "df1.head()"
   ]
  },
  {
   "cell_type": "code",
   "execution_count": 40,
   "metadata": {},
   "outputs": [
    {
     "data": {
      "text/plain": [
       "verdict\n",
       "no     27077\n",
       "yes     6291\n",
       "dtype: int64"
      ]
     },
     "execution_count": 40,
     "metadata": {},
     "output_type": "execute_result"
    }
   ],
   "source": [
    "df1.groupby('verdict').size()"
   ]
  },
  {
   "cell_type": "code",
   "execution_count": null,
   "metadata": {},
   "outputs": [],
   "source": []
  }
 ],
 "metadata": {
  "kernelspec": {
   "display_name": "Python 3",
   "language": "python",
   "name": "python3"
  },
  "language_info": {
   "codemirror_mode": {
    "name": "ipython",
    "version": 3
   },
   "file_extension": ".py",
   "mimetype": "text/x-python",
   "name": "python",
   "nbconvert_exporter": "python",
   "pygments_lexer": "ipython3",
   "version": "3.7.3"
  }
 },
 "nbformat": 4,
 "nbformat_minor": 2
}
